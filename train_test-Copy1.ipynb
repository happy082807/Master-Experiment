{
 "cells": [
  {
   "cell_type": "code",
   "execution_count": 1,
   "metadata": {
    "collapsed": true
   },
   "outputs": [],
   "source": [
    "from elasticsearch import Elasticsearch, helpers\n",
    "from pprint import pprint\n",
    "import time\n",
    "from datetime import datetime"
   ]
  },
  {
   "cell_type": "code",
   "execution_count": 2,
   "metadata": {
    "collapsed": true
   },
   "outputs": [],
   "source": [
    "import matplotlib.pyplot as plt\n",
    "import networkx as nx\n",
    "from networkx.drawing.nx_agraph import write_dot, graphviz_layout\n",
    "from mpl_toolkits.mplot3d import Axes3D"
   ]
  },
  {
   "cell_type": "code",
   "execution_count": 3,
   "metadata": {
    "collapsed": true
   },
   "outputs": [],
   "source": [
    "from collections import Counter\n",
    "import math\n",
    "import statistics"
   ]
  },
  {
   "cell_type": "code",
   "execution_count": 4,
   "metadata": {
    "collapsed": true
   },
   "outputs": [],
   "source": [
    "es = Elasticsearch('140.118.155.12:9200')"
   ]
  },
  {
   "cell_type": "code",
   "execution_count": 81,
   "metadata": {
    "collapsed": true
   },
   "outputs": [],
   "source": [
    "# es query (must條件, size搜尋數量)\n",
    "def es_query(must, size):\n",
    "    try:\n",
    "        q = {\"query\": {\"bool\": {\"must\": must}}, \"size\": size}\n",
    "        res = es.search(index=index, doc_type='doc', body=q)\n",
    "        if res['hits']['total'] != 0:\n",
    "            return res['hits']['hits']\n",
    "        else:\n",
    "            return []\n",
    "    except Exception as e:\n",
    "        print(e)\n",
    "        return None"
   ]
  },
  {
   "cell_type": "code",
   "execution_count": 6,
   "metadata": {
    "collapsed": true
   },
   "outputs": [],
   "source": [
    "# 從es中找\"所有\"符合條件的項目 (cond條件)\n",
    "def find_all_event(cond):\n",
    "    try:\n",
    "        q = {\"query\": {\"bool\": {\"must\": cond}}}\n",
    "        res = helpers.scan(es, index=index, doc_type='doc', query=q)\n",
    "        events = []\n",
    "        for i in res:\n",
    "            events.append(i)\n",
    "        return events\n",
    "    except Exception as e:\n",
    "        print(e)\n",
    "        return None"
   ]
  },
  {
   "cell_type": "code",
   "execution_count": 7,
   "metadata": {
    "collapsed": true
   },
   "outputs": [],
   "source": [
    "# 找某段時間內(st開始時間~et結束時間)4688(create process)的event\n",
    "def find_create_process(pid, st, et):\n",
    "    if pid is None:\n",
    "        cond = [{'match': {'event_id': '4688'}}, {\"range\": { \"@timestamp\": { \"gte\": st, \"lte\": et}}}]\n",
    "    else:\n",
    "        cond = [{\"match\": {'event_data.ProcessId': pid}}, {'match': {'event_id': '4688'}}, {\"range\": { \"@timestamp\": { \"gte\": st, \"lte\": et}}}]\n",
    "    e = find_all_event(cond)\n",
    "    return e"
   ]
  },
  {
   "cell_type": "code",
   "execution_count": 8,
   "metadata": {
    "collapsed": true
   },
   "outputs": [],
   "source": [
    "# 從所有e(event)找最早的時間 (為了找出一個pid再開始後最早的結束時間)\n",
    "def find_early_time(e, st):\n",
    "    if e != [] and e is not None:\n",
    "        t1 = e[0]['_source']['@timestamp']\n",
    "        stt = float(str(int(time.mktime(datetime.strptime(st.split('.')[0], \"%Y-%m-%dT%H:%M:%S\").timetuple())))+ '.' + st.split('.')[1].split('Z')[0])\n",
    "        for i in e:\n",
    "            t2 = i['_source']['@timestamp']\n",
    "            t2t = float(str(int(time.mktime(datetime.strptime(t2.split('.')[0], \"%Y-%m-%dT%H:%M:%S\").timetuple())))+ '.' + t2.split('.')[1].split('Z')[0])\n",
    "            t1t = float(str(int(time.mktime(datetime.strptime(t1.split('.')[0], \"%Y-%m-%dT%H:%M:%S\").timetuple())))+ '.' + t1.split('.')[1].split('Z')[0])\n",
    "            if stt > t1t:\n",
    "                t1 = t2\n",
    "            elif t2t > stt:\n",
    "                if t2t < t1t:\n",
    "                    t1 = t2\n",
    "        return t1\n",
    "    else:\n",
    "        return None"
   ]
  },
  {
   "cell_type": "code",
   "execution_count": 9,
   "metadata": {
    "collapsed": true
   },
   "outputs": [],
   "source": [
    "# 找一個pid的結束時間，因pid會一直重複使用，所以將這個pid所有4689(process end)的event找出，再找出開始後，最早的結束時間\n",
    "def find_end_time(pid, st):\n",
    "    cond = [{\"match\": {'event_data.ProcessId': pid}}, {'match': {'event_id': '4689'}}, {\"range\": { \"@timestamp\": { \"gte\": st, \"lte\": \"now\" }}}]\n",
    "    e = find_all_event(cond)\n",
    "    et = find_early_time(e, st)\n",
    "    return et"
   ]
  },
  {
   "cell_type": "code",
   "execution_count": 10,
   "metadata": {
    "collapsed": true
   },
   "outputs": [],
   "source": [
    "# 找一個pid在開始st到結束et之間所做的4663(access object)\n",
    "def find_related_access(pid, st, et):\n",
    "    cond = [{'match': {'event_id': '4663'}}, { 'match': {'event_data.ProcessId': pid}}, {\"range\": { \"@timestamp\": { \"gte\": st, \"lte\": et}}}]\n",
    "    e = find_all_event(cond)\n",
    "    return e"
   ]
  },
  {
   "cell_type": "code",
   "execution_count": 11,
   "metadata": {
    "collapsed": true
   },
   "outputs": [],
   "source": [
    "# 畫圖st只是將圖命名用，將所有e畫圖\n",
    "def draw(st, e):\n",
    "    G = nx.DiGraph()\n",
    "    stt = str(int(time.mktime(datetime.strptime(st.split('.')[0], \"%Y-%m-%dT%H:%M:%S\").timetuple())))\n",
    "    for i in range(len(e['process'])):\n",
    "        if e['type'] is 'File':\n",
    "            G.add_node(e['object'][i], s='^')\n",
    "        else:\n",
    "            G.add_node(e['object'][i], s='o')\n",
    "        G.add_node(e['process'][i], s='o')\n",
    "        if e['op'][i] is ('_4416' or '_4419' or '_4423' or '_1538'):\n",
    "            G.add_edge(e['object'][i], e['process'][i])\n",
    "        else:\n",
    "            G.add_edge(e['process'][i], e['object'][i])\n",
    "    return G, stt"
   ]
  },
  {
   "cell_type": "code",
   "execution_count": 12,
   "metadata": {
    "collapsed": false
   },
   "outputs": [],
   "source": [
    "# find external device insert events - Event ID 6416\n",
    "def find_HID_insert():\n",
    "    doc_ext = {\"query\":{\"bool\":{\"must\":[{\"term\":{\"event_id\":\"6416\"}},{\"prefix\":{\"event_data.DeviceDescription\":\"HID\"}}]}}, \"size\": 1000}\n",
    "\n",
    "    res_ext = es.search(index=index, doc_type='doc', body=doc_ext, sort='@timestamp')\n",
    "\n",
    "    ext_events = res_ext['hits']['hits']\n",
    "    print(res_ext['hits']['total'], len(ext_events))\n",
    "    \n",
    "    return ext_events"
   ]
  },
  {
   "cell_type": "code",
   "execution_count": 13,
   "metadata": {
    "collapsed": false
   },
   "outputs": [],
   "source": [
    "# 一個usb插入可能產生多個6416(因usb可包含多項功能)，將同一秒內的視為相同的usb\n",
    "def usb_time(ext_events):\n",
    "    usb_timestamp = []\n",
    "\n",
    "    for i in ext_events:\n",
    "        if usb_timestamp == []:\n",
    "            usb_timestamp.append(i['_source']['@timestamp'])\n",
    "        else:\n",
    "            st = usb_timestamp[-1]\n",
    "            tt = float(str(int(time.mktime(datetime.strptime(st.split('.')[0], \"%Y-%m-%dT%H:%M:%S\").timetuple())))+ '.' + st.split('.')[1].split('Z')[0])\n",
    "            it = i['_source']['@timestamp']\n",
    "            itt = float(str(int(time.mktime(datetime.strptime(it.split('.')[0], \"%Y-%m-%dT%H:%M:%S\").timetuple())))+ '.' + it.split('.')[1].split('Z')[0])\n",
    "            if itt > (tt + 1):\n",
    "                usb_timestamp.append(it)\n",
    "    print(len(usb_timestamp))\n",
    "    return usb_timestamp"
   ]
  },
  {
   "cell_type": "code",
   "execution_count": 14,
   "metadata": {
    "collapsed": false
   },
   "outputs": [],
   "source": [
    "# 將所有event組起來，t_range為插入usb後多久，max_level為數的層數(不重要XD)\n",
    "def find_whole_events(t_range, max_level, usb_timestamp):\n",
    "    pid = []\n",
    "    all_graph = []\n",
    "    graph_t = []\n",
    "    all_node = []\n",
    "\n",
    "    for t in usb_timestamp:\n",
    "        events = {'process':[], 'op':[], 'object':[], 'type': []}\n",
    "        # 時間處理，設定usb end time(由t_range決定)\n",
    "        stime = t\n",
    "        minute = int(t.split(':')[1]) + t_range\n",
    "        hour = int((t.split(':')[0]).split('T')[1])\n",
    "        date = (t.split(':')[0]).split('T')[0]\n",
    "        if minute < 10:\n",
    "            mm = '0' + str(minute)\n",
    "        elif minute > 60:\n",
    "            minute = minute - 60\n",
    "            mm = '0' + str(minute)\n",
    "            hour += 1\n",
    "        elif minute == 60:\n",
    "            mm = '00'\n",
    "            hour += 1\n",
    "        else:\n",
    "            mm = str(minute)\n",
    "        if hour < 10:\n",
    "            hh = '0' + str(hour)\n",
    "        elif hour > 23:\n",
    "            hh = '23'\n",
    "        else:\n",
    "            hh = str(hour)\n",
    "        etime = date + 'T' + hh + ':' + mm + ':' + t.split(':')[2]\n",
    "        # 找所有create process(4688)\n",
    "        events_4688 = find_create_process(None, stime, etime)\n",
    "        # 一層一層找\n",
    "        level = 0\n",
    "        while events_4688 != [] and events_4688 is not None and level <= max_level:\n",
    "            create_event = events_4688\n",
    "            events_4688 = []\n",
    "            for i in create_event:\n",
    "                # metasploit為我錄的攻擊時會產生的，這是因為使用的平台為kali，但為了模擬實際行為，因此過濾掉\n",
    "                if 'C:\\metasploit' not in i['_source']['event_data']['ParentProcessName'] and 'C:\\metasploit' not in i['_source']['event_data']['NewProcessName']:\n",
    "                    st = i['_source']['@timestamp']\n",
    "                    et = find_end_time(i['_source']['event_data']['NewProcessId'], st)\n",
    "                    pid.append(i['_source']['event_data']['ProcessId'])\n",
    "                    events['process'].append(i['_source']['event_data']['ParentProcessName'])\n",
    "                    events['op'].append('_4688')\n",
    "                    events['object'].append(i['_source']['event_data']['NewProcessName'])\n",
    "                    events['type'].append('Process')\n",
    "                    events_4663 = find_related_access(i['_source']['event_data']['NewProcessId'], st, et)\n",
    "                    events_4663.extend(find_related_access(i['_source']['event_data']['ProcessId'], st, et))\n",
    "                    new_create_events = find_create_process(i['_source']['event_data']['NewProcessId'], st, et)\n",
    "                    if new_create_events != [] and new_create_events is not None:\n",
    "                        events_4688.extend(new_create_events)\n",
    "                    for j in events_4663:\n",
    "                        if 'C:\\metasploit' not in j['_source']['event_data']['ProcessName']:\n",
    "                            pid.append(j['_source']['event_data']['ProcessId'])\n",
    "                            events['process'].append(j['_source']['event_data']['ProcessName'])\n",
    "                            events['op'].append('_' + j['_source']['event_data']['AccessList'][2:6])\n",
    "                            events['object'].append(j['_source']['event_data']['ObjectName'])\n",
    "                            events['type'].append(j['_source']['event_data']['ObjectType'])\n",
    "            level += 1\n",
    "        print(t)\n",
    "        # 畫圖 G為圖，tt為時間標籤\n",
    "        G, tt = draw(t, events)\n",
    "        graph_t.append(tt)\n",
    "        all_graph.append(G.edges())\n",
    "        all_node.append(G.nodes())\n",
    "    return all_graph, all_node, graph_t"
   ]
  },
  {
   "cell_type": "code",
   "execution_count": 15,
   "metadata": {
    "collapsed": true
   },
   "outputs": [],
   "source": [
    "# 所有要查找的es目錄\n",
    "indexs = ['winlogbeat-6.2.4-2018.05.16', 'winlogbeat-6.2.4-2018.05.23', 'winlogbeat-6.2.4-2018.05.28', \n",
    "          'winlogbeat-6.2.4-2018.05.29', 'winlogbeat-6.2.4-2018.05.30', 'winlogbeat-6.2.4-2018.05.31',\n",
    "          'winlogbeat-6.2.4-2018.06.05', 'winlogbeat-6.2.4-2018.06.06', 'winlogbeat-6.2.4-2018.06.07',\n",
    "          'winlogbeat-6.2.4-2018.06.11', 'winlogbeat-6.2.4-2018.06.12']"
   ]
  },
  {
   "cell_type": "code",
   "execution_count": 29,
   "metadata": {
    "collapsed": true
   },
   "outputs": [],
   "source": [
    "# 攻擊的時間點，標記用\n",
    "attack_t = ['2018-05-29T18:28:45.106Z', '2018-05-29T18:29:37.418Z', '2018-05-29T18:31:00.855Z', '2018-05-29T18:32:39.485Z', \n",
    "             '2018-05-29T18:34:19.657Z', '2018-06-12T14:29:00.506Z', '2018-06-12T14:57:43.236Z', '2018-06-12T15:10:03.975Z',\n",
    "             '2018-06-12T15:23:35.616Z', '2018-06-12T15:41:28.197Z']"
   ]
  },
  {
   "cell_type": "code",
   "execution_count": 57,
   "metadata": {
    "collapsed": false
   },
   "outputs": [],
   "source": [
    "# test\n",
    "\n",
    "# test的usb插入時間\n",
    "timestamp = [['2018-05-16T06:13:49.754Z', '2018-05-16T07:56:24.324Z', '2018-05-16T07:56:29.765Z', '2018-05-16T08:01:32.813Z', \n",
    "              '2018-05-16T08:02:56.242Z', '2018-05-16T08:52:11.643Z', '2018-05-16T10:08:39.708Z', '2018-05-16T10:21:13.136Z'], \n",
    "             ['2018-05-23T10:13:19.598Z', '2018-05-23T15:33:03.470Z'], \n",
    "             ['2018-05-28T03:11:47.298Z', '2018-05-28T09:19:07.754Z', '2018-05-28T09:20:14.300Z', '2018-05-28T09:44:51.264Z', \n",
    "              '2018-05-28T14:21:45.234Z', '2018-05-28T14:22:43.504Z', '2018-05-28T15:40:52.900Z'], \n",
    "             ['2018-05-29T04:31:51.722Z', '2018-05-29T04:37:19.513Z', '2018-05-29T10:09:54.536Z', '2018-05-29T17:23:40.016Z',\n",
    "              '2018-05-29T18:36:01.082Z', '2018-05-29T18:55:29.999Z', '2018-05-29T19:12:17.161Z', '2018-05-29T19:15:04.205Z',\n",
    "              '2018-05-29T19:20:40.778Z', '2018-05-29T19:23:25.424Z', '2018-05-29T18:28:45.106Z', '2018-05-29T18:29:37.418Z',\n",
    "              '2018-05-29T18:31:00.855Z', '2018-05-29T18:32:39.485Z', '2018-05-29T18:34:19.657Z'],\n",
    "             ['2018-05-30T04:52:57.971Z', '2018-05-30T06:44:00.012Z', '2018-05-30T06:54:56.819Z', '2018-05-30T10:35:46.003Z',\n",
    "              '2018-05-30T11:00:15.784Z', '2018-05-30T14:24:38.957Z'],\n",
    "             ['2018-05-31T06:14:47.201Z'],\n",
    "             ['2018-06-05T13:33:58.055Z', '2018-06-05T15:42:36.577Z'],\n",
    "             ['2018-06-06T08:56:11.317Z', '2018-06-06T10:37:08.306Z'],\n",
    "             ['2018-06-07T19:21:03.994Z', '2018-06-07T20:33:59.822Z'],\n",
    "             ['2018-06-11T19:45:32.899Z', '2018-06-11T20:03:26.761Z'],\n",
    "             ['2018-06-12T14:29:00.506Z', '2018-06-12T14:01:58.516Z', '2018-06-12T14:57:43.236Z', '2018-06-12T15:10:03.975Z',\n",
    "              '2018-06-12T15:23:35.616Z', '2018-06-12T15:41:28.197Z']\n",
    "            ]"
   ]
  },
  {
   "cell_type": "code",
   "execution_count": 17,
   "metadata": {
    "collapsed": false
   },
   "outputs": [],
   "source": [
    "# train\n",
    "\n",
    "# train的usb插入時間\n",
    "timestamp = [['2018-05-16T06:13:49.754Z', '2018-05-16T07:56:24.324Z', '2018-05-16T07:56:29.765Z', '2018-05-16T08:01:32.813Z', \n",
    "              '2018-05-16T08:02:56.242Z'], \n",
    "             ['2018-05-23T10:13:19.598Z'], \n",
    "             ['2018-05-28T03:11:47.298Z', '2018-05-28T09:19:07.754Z', \n",
    "              '2018-05-28T14:21:45.234Z', '2018-05-28T14:22:43.504Z', '2018-05-28T15:40:52.900Z'], \n",
    "             [ '2018-05-29T10:09:54.536Z', '2018-05-29T17:23:40.016Z',\n",
    "              '2018-05-29T18:36:01.082Z', '2018-05-29T18:55:29.999Z', '2018-05-29T19:12:17.161Z', '2018-05-29T19:15:04.205Z',\n",
    "              '2018-05-29T19:20:40.778Z', '2018-05-29T19:23:25.424Z', '2018-05-29T18:28:45.106Z', '2018-05-29T18:29:37.418Z'],\n",
    "             ['2018-05-30T04:52:57.971Z', '2018-05-30T06:44:00.012Z'],\n",
    "             ['2018-05-31T06:14:47.201Z'],\n",
    "             ['2018-06-05T13:33:58.055Z'],\n",
    "             ['2018-06-06T08:56:11.317Z', '2018-06-06T10:37:08.306Z'],\n",
    "             ['2018-06-07T19:21:03.994Z', '2018-06-07T20:33:59.822Z'],\n",
    "             ['2018-06-11T19:45:32.899Z', '2018-06-11T20:03:26.761Z'],\n",
    "             ['2018-06-12T14:29:00.506Z', '2018-06-12T14:01:58.516Z', '2018-06-12T14:57:43.236Z', '2018-06-12T15:10:03.975Z',\n",
    "              '2018-06-12T15:23:35.616Z', '2018-06-12T15:41:28.197Z']\n",
    "            ]"
   ]
  },
  {
   "cell_type": "code",
   "execution_count": 58,
   "metadata": {
    "collapsed": false
   },
   "outputs": [
    {
     "name": "stdout",
     "output_type": "stream",
     "text": [
      "2018-05-16T06:13:49.754Z\n",
      "2018-05-16T07:56:24.324Z\n",
      "2018-05-16T07:56:29.765Z\n",
      "2018-05-16T08:01:32.813Z\n",
      "2018-05-16T08:02:56.242Z\n",
      "2018-05-16T08:52:11.643Z\n",
      "2018-05-16T10:08:39.708Z\n",
      "2018-05-16T10:21:13.136Z\n",
      "2018-05-23T10:13:19.598Z\n",
      "2018-05-23T15:33:03.470Z\n",
      "2018-05-28T03:11:47.298Z\n",
      "2018-05-28T09:19:07.754Z\n",
      "2018-05-28T09:20:14.300Z\n",
      "2018-05-28T09:44:51.264Z\n",
      "2018-05-28T14:21:45.234Z\n",
      "2018-05-28T14:22:43.504Z\n",
      "2018-05-28T15:40:52.900Z\n",
      "2018-05-29T04:31:51.722Z\n",
      "2018-05-29T04:37:19.513Z\n",
      "2018-05-29T10:09:54.536Z\n",
      "2018-05-29T17:23:40.016Z\n",
      "2018-05-29T18:36:01.082Z\n",
      "2018-05-29T18:55:29.999Z\n",
      "2018-05-29T19:12:17.161Z\n",
      "2018-05-29T19:15:04.205Z\n",
      "2018-05-29T19:20:40.778Z\n",
      "2018-05-29T19:23:25.424Z\n",
      "2018-05-29T18:28:45.106Z\n",
      "2018-05-29T18:29:37.418Z\n",
      "2018-05-29T18:31:00.855Z\n",
      "2018-05-29T18:32:39.485Z\n",
      "2018-05-29T18:34:19.657Z\n",
      "2018-05-30T04:52:57.971Z\n",
      "2018-05-30T06:44:00.012Z\n",
      "2018-05-30T06:54:56.819Z\n",
      "2018-05-30T10:35:46.003Z\n",
      "2018-05-30T11:00:15.784Z\n",
      "2018-05-30T14:24:38.957Z\n",
      "2018-05-31T06:14:47.201Z\n",
      "2018-06-05T13:33:58.055Z\n",
      "2018-06-05T15:42:36.577Z\n",
      "2018-06-06T08:56:11.317Z\n",
      "2018-06-06T10:37:08.306Z\n",
      "2018-06-07T19:21:03.994Z\n",
      "2018-06-07T20:33:59.822Z\n",
      "2018-06-11T19:45:32.899Z\n",
      "2018-06-11T20:03:26.761Z\n",
      "2018-06-12T14:29:00.506Z\n",
      "2018-06-12T14:01:58.516Z\n",
      "2018-06-12T14:57:43.236Z\n",
      "2018-06-12T15:10:03.975Z\n",
      "2018-06-12T15:23:35.616Z\n",
      "2018-06-12T15:41:28.197Z\n"
     ]
    }
   ],
   "source": [
    "# 主function，把所有圖存起來(兩分鐘)\n",
    "all_graph2 = []\n",
    "all_node2 = []\n",
    "graph_t = []\n",
    "\n",
    "for index, times in zip(indexs, timestamp):\n",
    "#     insert_events = find_HID_insert()\n",
    "    insert_times = times\n",
    "    t_range = 2  # t_range <= 10\n",
    "    max_level = 3\n",
    "    g, n, t = find_whole_events(t_range, max_level, insert_times)\n",
    "    \n",
    "    all_graph2.extend(g)\n",
    "    all_node2.extend(n)\n",
    "    graph_t.extend(times)"
   ]
  },
  {
   "cell_type": "code",
   "execution_count": 59,
   "metadata": {
    "collapsed": false
   },
   "outputs": [
    {
     "name": "stdout",
     "output_type": "stream",
     "text": [
      "number of events: 973\n"
     ]
    }
   ],
   "source": [
    "# 算event的rareness score(idf)\n",
    "edges_token = []\n",
    "edges_token += [j for i in all_graph2 for j in i]\n",
    "print('number of events:', len(edges_token))\n",
    "event_count = Counter(edges_token)\n",
    "event_score = {}\n",
    "\n",
    "for e in event_count:\n",
    "    idf = math.log(len(all_graph2) / (1 + sum(1 for i in all_graph2 if e in i)))\n",
    "    event_score.update({e: idf})"
   ]
  },
  {
   "cell_type": "code",
   "execution_count": 60,
   "metadata": {
    "collapsed": false
   },
   "outputs": [
    {
     "name": "stdout",
     "output_type": "stream",
     "text": [
      "number of objects: 1031\n"
     ]
    }
   ],
   "source": [
    "# 算object的rareness score(idf)\n",
    "nodes_token = []\n",
    "nodes_token += [j for i in all_node2 for j in i]\n",
    "print('number of objects:', len(nodes_token))\n",
    "obj_count = Counter(nodes_token)\n",
    "obj_score = {}\n",
    "\n",
    "for o in obj_count:\n",
    "    idf = math.log(len(all_node2) / (1 + sum(1 for i in all_node2 if o in i)))\n",
    "    obj_score.update({o: idf})"
   ]
  },
  {
   "cell_type": "code",
   "execution_count": 61,
   "metadata": {
    "collapsed": false
   },
   "outputs": [],
   "source": [
    "# 把event和object的rareness score正規化到0-1，並存成一個dict(all_score2)兩分鐘的rareness score\n",
    "all_score2 = {}\n",
    "\n",
    "event_max = max(event_score.keys(), key=(lambda k: event_score[k]))\n",
    "event_min = min(event_score.keys(), key=(lambda k: event_score[k]))\n",
    "\n",
    "oldrange = event_score[event_max] - event_score[event_min]\n",
    "newmin = 0\n",
    "newmax = 1\n",
    "newrange = newmax - newmin\n",
    "\n",
    "scale = newrange / oldrange\n",
    "for i in event_score:\n",
    "    all_score2[i] = (event_score[i] - event_score[event_min]) * scale + newmin\n",
    "\n",
    "obj_max = max(obj_score.keys(), key=(lambda k: obj_score[k]))\n",
    "obj_min = min(obj_score.keys(), key=(lambda k: obj_score[k]))\n",
    "\n",
    "obj_oldrange = obj_score[obj_max] - obj_score[obj_min]\n",
    "obj_scale = newrange / obj_oldrange\n",
    "for i in obj_score:\n",
    "    all_score2[i] = (obj_score[i] - obj_score[obj_min]) * obj_scale + newmin"
   ]
  },
  {
   "cell_type": "code",
   "execution_count": 62,
   "metadata": {
    "collapsed": false
   },
   "outputs": [
    {
     "name": "stdout",
     "output_type": "stream",
     "text": [
      "2018-05-16T06:13:49.754Z\n",
      "2018-05-16T07:56:24.324Z\n",
      "2018-05-16T07:56:29.765Z\n",
      "2018-05-16T08:01:32.813Z\n",
      "2018-05-16T08:02:56.242Z\n",
      "2018-05-16T08:52:11.643Z\n",
      "2018-05-16T10:08:39.708Z\n",
      "2018-05-16T10:21:13.136Z\n",
      "2018-05-23T10:13:19.598Z\n",
      "2018-05-23T15:33:03.470Z\n",
      "2018-05-28T03:11:47.298Z\n",
      "2018-05-28T09:19:07.754Z\n",
      "2018-05-28T09:20:14.300Z\n",
      "2018-05-28T09:44:51.264Z\n",
      "2018-05-28T14:21:45.234Z\n",
      "2018-05-28T14:22:43.504Z\n",
      "2018-05-28T15:40:52.900Z\n",
      "2018-05-29T04:31:51.722Z\n",
      "2018-05-29T04:37:19.513Z\n",
      "2018-05-29T10:09:54.536Z\n",
      "2018-05-29T17:23:40.016Z\n",
      "2018-05-29T18:36:01.082Z\n",
      "2018-05-29T18:55:29.999Z\n",
      "2018-05-29T19:12:17.161Z\n",
      "2018-05-29T19:15:04.205Z\n",
      "2018-05-29T19:20:40.778Z\n",
      "2018-05-29T19:23:25.424Z\n",
      "2018-05-29T18:28:45.106Z\n",
      "2018-05-29T18:29:37.418Z\n",
      "2018-05-29T18:31:00.855Z\n",
      "2018-05-29T18:32:39.485Z\n",
      "2018-05-29T18:34:19.657Z\n",
      "2018-05-30T04:52:57.971Z\n",
      "2018-05-30T06:44:00.012Z\n",
      "2018-05-30T06:54:56.819Z\n",
      "2018-05-30T10:35:46.003Z\n",
      "2018-05-30T11:00:15.784Z\n",
      "2018-05-30T14:24:38.957Z\n",
      "2018-05-31T06:14:47.201Z\n",
      "2018-06-05T13:33:58.055Z\n",
      "2018-06-05T15:42:36.577Z\n",
      "2018-06-06T08:56:11.317Z\n",
      "2018-06-06T10:37:08.306Z\n",
      "2018-06-07T19:21:03.994Z\n",
      "2018-06-07T20:33:59.822Z\n",
      "2018-06-11T19:45:32.899Z\n",
      "2018-06-11T20:03:26.761Z\n",
      "2018-06-12T14:29:00.506Z\n",
      "2018-06-12T14:01:58.516Z\n",
      "2018-06-12T14:57:43.236Z\n",
      "2018-06-12T15:10:03.975Z\n",
      "2018-06-12T15:23:35.616Z\n",
      "2018-06-12T15:41:28.197Z\n"
     ]
    }
   ],
   "source": [
    "# 主function，把所有圖存起來(一分鐘)，算pagerank用\n",
    "all_graph = []\n",
    "all_node = []\n",
    "graph_t = []\n",
    "\n",
    "start = time.time()\n",
    "\n",
    "for index, times in zip(indexs, timestamp):\n",
    "#     insert_events = find_HID_insert()\n",
    "    insert_times = times\n",
    "    t_range = 1  # t_range <= 10\n",
    "    max_level = 3\n",
    "    g, n, t = find_whole_events(t_range, max_level, insert_times)\n",
    "    \n",
    "    all_graph.extend(g)\n",
    "    all_node.extend(n)\n",
    "    graph_t.extend(times)\n",
    "    \n",
    "end = time.time()"
   ]
  },
  {
   "cell_type": "code",
   "execution_count": 63,
   "metadata": {
    "collapsed": false
   },
   "outputs": [
    {
     "name": "stdout",
     "output_type": "stream",
     "text": [
      "53\n"
     ]
    }
   ],
   "source": [
    "# 將event畫出bipartite graph\n",
    "node_edge_1 = []\n",
    "\n",
    "print(len(graph_t))\n",
    "# Bipartite Graph\n",
    "BE = nx.Graph()\n",
    "# plt.figure(figsize=(40,40))\n",
    "BE.add_nodes_from(graph_t, bipartite=0)\n",
    "for index, i in enumerate(all_graph):\n",
    "    for j in i:\n",
    "        BE.add_node(j, bipartite=1)\n",
    "        node_edge_1.append(j)\n",
    "        BE.add_edge(graph_t[index], j)"
   ]
  },
  {
   "cell_type": "code",
   "execution_count": 64,
   "metadata": {
    "collapsed": false
   },
   "outputs": [
    {
     "name": "stdout",
     "output_type": "stream",
     "text": [
      "53\n"
     ]
    }
   ],
   "source": [
    "# 將object畫出bipartite graph\n",
    "node_obj_1 = []\n",
    "\n",
    "print(len(graph_t))\n",
    "# Bipartite Graph\n",
    "BO = nx.Graph()\n",
    "# plt.figure(figsize=(40,40))\n",
    "BO.add_nodes_from(graph_t, bipartite=0)\n",
    "# B.add_node([j for i in all_graph for j in i], bipartite=1)\n",
    "for index, i in enumerate(all_node):\n",
    "    for j in i:\n",
    "        BO.add_node(j, bipartite=1)\n",
    "        node_obj_1.append(j)\n",
    "        BO.add_edge(graph_t[index], j)"
   ]
  },
  {
   "cell_type": "code",
   "execution_count": 65,
   "metadata": {
    "collapsed": true
   },
   "outputs": [],
   "source": [
    "# event One mode Projection\n",
    "nodes = set(node_edge_1)\n",
    "PE = nx.projected_graph(BE, nodes)"
   ]
  },
  {
   "cell_type": "code",
   "execution_count": 66,
   "metadata": {
    "collapsed": true
   },
   "outputs": [],
   "source": [
    "# object One mode Projection\n",
    "nodes = set(node_obj_1)\n",
    "PO = nx.projected_graph(BO, nodes)"
   ]
  },
  {
   "cell_type": "code",
   "execution_count": 67,
   "metadata": {
    "collapsed": false
   },
   "outputs": [],
   "source": [
    "# pagerank起始設定\n",
    "for i in PE.edges():\n",
    "    if (all_score2[i[0]] > 0.8 and all_score2[i[1]] < 0.3) or (all_score2[i[1]] > 0.8 and all_score2[i[0]] < 0.3):\n",
    "        PE[i[0]][i[1]]['weight'] = 0.01\n",
    "    else:\n",
    "        PE[i[0]][i[1]]['weight'] = 0.99\n",
    "        \n",
    "for i in PO.edges():\n",
    "    if (all_score2[i[0]] > 0.8 and all_score2[i[1]] < 0.3) or (all_score2[i[1]] > 0.8 and all_score2[i[0]] < 0.3):\n",
    "        PO[i[0]][i[1]]['weight'] = 0.01\n",
    "    else:\n",
    "        PO[i[0]][i[1]]['weight'] = 0.99\n",
    "        \n",
    "enscore = {}\n",
    "high = 0\n",
    "low = 0\n",
    "\n",
    "for i in PE.nodes():\n",
    "    if all_score2[i] > 0.8:\n",
    "        enscore.update({i:-1})\n",
    "        high += 1\n",
    "    elif all_score2[i] < 0.3:\n",
    "        enscore.update({i:1})\n",
    "        low += 1\n",
    "    else:\n",
    "        enscore.update({i:0})\n",
    "        \n",
    "onscore = {}\n",
    "high = 0\n",
    "low = 0\n",
    "\n",
    "for i in PO.nodes():\n",
    "    if all_score2[i] > 0.8:\n",
    "        onscore.update({i:-1})\n",
    "        high += 1\n",
    "    elif all_score2[i] < 0.3:\n",
    "        onscore.update({i:1})\n",
    "        low += 1\n",
    "    else:\n",
    "        onscore.update({i:0})"
   ]
  },
  {
   "cell_type": "code",
   "execution_count": 68,
   "metadata": {
    "collapsed": false
   },
   "outputs": [],
   "source": [
    "# 計算event pagerank\n",
    "Epr = nx.pagerank(PE, max_iter=100, nstart=enscore)"
   ]
  },
  {
   "cell_type": "code",
   "execution_count": 69,
   "metadata": {
    "collapsed": false
   },
   "outputs": [],
   "source": [
    "# 計算object pagerank\n",
    "Opr = nx.pagerank(PO, max_iter=100, nstart=onscore)"
   ]
  },
  {
   "cell_type": "code",
   "execution_count": 70,
   "metadata": {
    "collapsed": false
   },
   "outputs": [],
   "source": [
    "# 正規畫pagerank score(0-1)，並存成dict(pr_nom)\n",
    "pr_nom = {}\n",
    "\n",
    "Epr_max = max(Epr.keys(), key=(lambda k: Epr[k]))\n",
    "Epr_min = min(Epr.keys(), key=(lambda k: Epr[k]))\n",
    "\n",
    "Epr_oldrange = Epr[Epr_max] - Epr[Epr_min]\n",
    "newmin = 0\n",
    "newmax = 1\n",
    "newrange = newmax - newmin\n",
    "\n",
    "Epr_scale = newrange / Epr_oldrange\n",
    "for i in Epr:\n",
    "    pr_nom[i] = (Epr[i] - Epr[Epr_min]) * Epr_scale + newmin\n",
    "    \n",
    "Opr_max = max(Opr.keys(), key=(lambda k: Opr[k]))\n",
    "Opr_min = min(Opr.keys(), key=(lambda k: Opr[k]))\n",
    "\n",
    "Opr_oldrange = Opr[Opr_max] - Opr[Opr_min]\n",
    "\n",
    "Opr_scale = newrange / Opr_oldrange\n",
    "for i in Opr:\n",
    "    pr_nom[i] = (Opr[i] - Opr[Opr_min]) * Opr_scale + newmin"
   ]
  },
  {
   "cell_type": "code",
   "execution_count": 71,
   "metadata": {
    "collapsed": false
   },
   "outputs": [],
   "source": [
    "# 計算每張圖的分數，會有兩個，一個是所有event，一個是所有object\n",
    "path_score = {}\n",
    "node_score = {}\n",
    "\n",
    "for index, i in enumerate(all_graph):\n",
    "    p_score = 0\n",
    "    for j in i:\n",
    "        if j in pr_nom:\n",
    "            p_score += pr_nom[j]\n",
    "            \n",
    "    if len(i) != 0:\n",
    "        path_score[graph_t[index]] = p_score / len(i)\n",
    "    else:\n",
    "        path_score[graph_t[index]] = 0\n",
    "        \n",
    "for index, i in enumerate(all_node):\n",
    "    n_score = 0\n",
    "    for j in i:\n",
    "        if j in pr_nom:\n",
    "            n_score += pr_nom[j]\n",
    "    if len(i) != 0:\n",
    "        node_score[graph_t[index]] = n_score / len(i)\n",
    "    else:\n",
    "        node_score[graph_t[index]] = 0"
   ]
  },
  {
   "cell_type": "code",
   "execution_count": 72,
   "metadata": {
    "collapsed": false,
    "scrolled": true
   },
   "outputs": [],
   "source": [
    "# 取feature\n",
    "scatter_x = []\n",
    "scatter_y = []\n",
    "node_len = []\n",
    "edge_len = []\n",
    "lowidf_event = []\n",
    "lowidf_obj = []\n",
    "highidf_event = []\n",
    "highidf_obj = []\n",
    "labels = []\n",
    "colors = []\n",
    "\n",
    "for index, i in enumerate(graph_t):\n",
    "    scatter_x.append(path_score[i])\n",
    "    scatter_y.append(node_score[i])\n",
    "    node_len.append(len(all_node2[index]))\n",
    "    edge_len.append(len(all_graph2[index]))\n",
    "    lowidf_event.append(1 + sum(1 for i in all_graph2[index] if all_score2[i] < 0.3))\n",
    "    lowidf_obj.append(1 + sum(1 for i in all_node2[index] if all_score2[i] < 0.3))\n",
    "    highidf_event.append(1 + sum(1 for i in all_graph2[index] if all_score2[i] > 0.8))\n",
    "    highidf_obj.append(1 + sum(1 for i in all_node2[index] if all_score2[i] > 0.8))"
   ]
  },
  {
   "cell_type": "code",
   "execution_count": 73,
   "metadata": {
    "collapsed": false
   },
   "outputs": [],
   "source": [
    "# feature正規化\n",
    "node_len_nor = [i/max(node_len) for i in node_len]\n",
    "edge_len_nor = [i/max(edge_len) for i in edge_len]\n",
    "lowidf_event_nor = [i/max(lowidf_event) for i in lowidf_event]\n",
    "lowidf_obj_nor = [i/max(lowidf_obj) for i in lowidf_obj]\n",
    "highidf_event_nor = [i/max(highidf_event) for i in highidf_event]\n",
    "highidf_obj_nor = [i/max(highidf_obj) for i in highidf_obj]"
   ]
  },
  {
   "cell_type": "code",
   "execution_count": 45,
   "metadata": {
    "collapsed": true
   },
   "outputs": [],
   "source": [
    "import numpy as np\n",
    "import random\n",
    "import pandas as pd"
   ]
  },
  {
   "cell_type": "code",
   "execution_count": 74,
   "metadata": {
    "collapsed": false
   },
   "outputs": [],
   "source": [
    "isattack = []\n",
    "for i in graph_t:\n",
    "    if i in attack_t:\n",
    "        isattack.append(1)\n",
    "    else:\n",
    "        isattack.append(0)"
   ]
  },
  {
   "cell_type": "code",
   "execution_count": 75,
   "metadata": {
    "collapsed": false
   },
   "outputs": [],
   "source": [
    "# 轉換格式，使用numpy\n",
    "featd = []\n",
    "for l, x, y, ln, le, lse, lso, hse, hso, yn in zip(graph_t, scatter_x, scatter_y, node_len_nor, edge_len_nor, lowidf_event_nor, lowidf_obj_nor, highidf_event_nor, highidf_obj_nor, isattack):\n",
    "    data = [x, y, ln, le, lse, hso]\n",
    "    featd.append(data)\n",
    "    \n",
    "selfeature = np.array(featd)"
   ]
  },
  {
   "cell_type": "code",
   "execution_count": 76,
   "metadata": {
    "collapsed": false
   },
   "outputs": [
    {
     "name": "stdout",
     "output_type": "stream",
     "text": [
      "[[ 0.30064502  0.22292661  0.34377308  0.3457859   0.72608578  0.30816865]\n",
      " [-0.28420015 -0.29968016  0.44892418  0.45195171 -0.42669547  0.49148732]]\n"
     ]
    }
   ],
   "source": [
    "# PCA找兩個主要的feature\n",
    "from sklearn.decomposition import PCA\n",
    "\n",
    "pca = PCA(n_components=2)\n",
    "feature = pca.fit_transform(selfeature)\n",
    "print(pca.components_)"
   ]
  },
  {
   "cell_type": "code",
   "execution_count": 85,
   "metadata": {
    "collapsed": false,
    "scrolled": true
   },
   "outputs": [
    {
     "data": {
      "image/png": "[encoded data removed]",
      "text/plain": [
       "<matplotlib.figure.Figure at 0x19eabd1ceb8>"
      ]
     },
     "metadata": {},
     "output_type": "display_data"
    }
   ],
   "source": [
    "# PCA結果\n",
    "ll = []\n",
    "cc = []\n",
    "xx = []\n",
    "yy = []\n",
    "\n",
    "for index, i in enumerate(graph_t):\n",
    "    if i in attack_t:\n",
    "        ll.append('')\n",
    "        cc.append('red')\n",
    "    else:\n",
    "        ll.append('')\n",
    "        cc.append('blue')\n",
    "    xx.append(feature[index,0])\n",
    "    yy.append(feature[index,1])\n",
    "\n",
    "plt.figure(figsize=(10,10))\n",
    "plt.xlim(-0.6,0.6)\n",
    "plt.ylim(-0.5,0.5)\n",
    "plt.scatter(xx, yy, color = cc)\n",
    "# plt.xlabel(\"USB event score\")\n",
    "# plt.ylabel(\"USB obj score\")\n",
    "for l, x, y in zip(ll, xx, yy):\n",
    "    plt.annotate(l, xy=(x, y))\n",
    "plt.savefig('pca.png')\n",
    "plt.show()"
   ]
  },
  {
   "cell_type": "code",
   "execution_count": 54,
   "metadata": {
    "collapsed": true
   },
   "outputs": [],
   "source": [
    "from sklearn.ensemble import RandomForestClassifier\n",
    "from sklearn.metrics import confusion_matrix"
   ]
  },
  {
   "cell_type": "code",
   "execution_count": 55,
   "metadata": {
    "collapsed": true
   },
   "outputs": [],
   "source": [
    "# training data\n",
    "feature1 = [i[0] for i in feature]\n",
    "feature2 = [i[1] for i in feature]\n",
    "attack = isattack\n",
    "dd = pd.DataFrame({'f1': feature1, 'f2': feature2, 'isattack': attack})"
   ]
  },
  {
   "cell_type": "code",
   "execution_count": 79,
   "metadata": {
    "collapsed": false
   },
   "outputs": [
    {
     "name": "stdout",
     "output_type": "stream",
     "text": [
      "30 0 0 7\n"
     ]
    },
    {
     "name": "stderr",
     "output_type": "stream",
     "text": [
      "C:\\Users\\user\\Anaconda3\\lib\\site-packages\\ipykernel\\__main__.py:22: DataConversionWarning: A column-vector y was passed when a 1d array was expected. Please change the shape of y to (n_samples,), for example using ravel().\n"
     ]
    }
   ],
   "source": [
    "# train model\n",
    "clf = RandomForestClassifier(n_estimators=30, max_depth=100)\n",
    "\n",
    "# randomforest_parameters = {'n_estimators':[100, 200, 300, 400, 500], 'max_depth':[30, 50, 100, 150]}\n",
    "# clf = GridSearchCV(RandomForestClassifier(n_jobs = -1), randomforest_parameters, cv = 10, scoring='f1')\n",
    "# clf.fit(X_rf, y_rf)\n",
    "# # print (\"\\tBest parameters set found on development set:\")\n",
    "# print (clf.best_params_)\n",
    "# prediction = clf.predict(X_rf)\n",
    "# confusion = confusion_matrix(y_rf, prediction)\n",
    "# print (confusion)\n",
    "\n",
    "df_percent = dd.sample(frac=1)\n",
    "X_rf = df_percent[['f1', 'f2']]\n",
    "y_rf = df_percent[['isattack']]\n",
    "df = pd.concat([dd, df_percent])\n",
    "df = df.reset_index(drop=True)\n",
    "df_gpby = df.groupby(list(df.columns))\n",
    "idx = [x[0] for x in df_gpby.groups.values() if len(x) == 1]\n",
    "test = df.reindex(idx)\n",
    "\n",
    "clf.fit(X_rf, y_rf)\n",
    "pred = clf.predict(dd[['f1', 'f2']])\n",
    "tn, fp, fn, tp = confusion_matrix(dd[['isattack']], pred).ravel()\n",
    "print(tn, fp, fn, tp)"
   ]
  },
  {
   "cell_type": "code",
   "execution_count": 80,
   "metadata": {
    "collapsed": false
   },
   "outputs": [
    {
     "name": "stdout",
     "output_type": "stream",
     "text": [
      "42 1 1 9\n"
     ]
    }
   ],
   "source": [
    "# test\n",
    "test_feature1 = [i[0] for i in feature]\n",
    "test_feature2 = [i[1] for i in feature]\n",
    "test_dd = pd.DataFrame({'f1': test_feature1, 'f2': test_feature2, 'isattack': isattack})\n",
    "pred = clf.predict(test_dd[['f1', 'f2']])\n",
    "tn, fp, fn, tp = confusion_matrix(test_dd[['isattack']], pred).ravel()\n",
    "print(tn, fp, fn, tp)"
   ]
  },
  {
   "cell_type": "code",
   "execution_count": null,
   "metadata": {
    "collapsed": false
   },
   "outputs": [],
   "source": [
    "for i, j, k in zip(graph_t, isattack, pred):\n",
    "    print(i,j,k)"
   ]
  },
  {
   "cell_type": "code",
   "execution_count": null,
   "metadata": {
    "collapsed": true
   },
   "outputs": [],
   "source": []
  }
 ],
 "metadata": {
  "anaconda-cloud": {},
  "kernelspec": {
   "display_name": "Python [conda root]",
   "language": "python",
   "name": "conda-root-py"
  },
  "language_info": {
   "codemirror_mode": {
    "name": "ipython",
    "version": 3
   },
   "file_extension": ".py",
   "mimetype": "text/x-python",
   "name": "python",
   "nbconvert_exporter": "python",
   "pygments_lexer": "ipython3",
   "version": "3.5.2"
  }
 },
 "nbformat": 4,
 "nbformat_minor": 1
}
